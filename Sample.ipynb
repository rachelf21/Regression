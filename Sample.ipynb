{
 "cells": [
  {
   "cell_type": "code",
   "execution_count": 10,
   "metadata": {},
   "outputs": [],
   "source": [
    "import numpy as np\n",
    "import pandas as pd\n",
    "from matplotlib import pyplot as plt\n",
    "from mpl_toolkits import mplot3d\n",
    "from mpl_toolkits.mplot3d import Axes3D\n",
    "#import plotly.express as px\n",
    "%matplotlib inline\n",
    "companies = [\"\",\"Apple\", \"Facebook\", \"GE\", \"Google\", \"IBM\", \"Microsoft\", \"PG\"]\n",
    "model = [\"Linear\", \"Log\", \"Exponential\", \"Power\"]\n",
    "\n",
    "def calculateR2(knownYs, Z):\n",
    "    if skip:\n",
    "        pred = Z \n",
    "    else:\n",
    "        pred = []\n",
    "        for i in range(0,len(data)):\n",
    "            pred.append(Z[i,i])    \n",
    "        pred = np.array(pred)\n",
    "       \n",
    "    residuals = knownYs - pred\n",
    "    ss_res = np.sum(residuals**2)\n",
    "    ss_tot =np.sum((knownYs - np.mean(knownYs))**2)\n",
    "    r2 = 1 - (ss_res / ss_tot)\n",
    "    return r2\n",
    "\n",
    "def saveFile(company, model):\n",
    "    savefile = \"pics2\\\\\" + company + \"_\" + model +\".png\"    \n",
    "    plt.savefig(savefile, dpi=150, bbox_inches='tight')\n",
    "    \n",
    "def addText(ax, text):\n",
    "   ax.text(0.05, 0.85, text, transform=ax.transAxes,size=14)\n",
    "   \n",
    "def addText2D(ax, text):\n",
    "   ax.text2D(0.05, 0.85, text, transform=ax.transAxes,size=14)\n",
    "   \n",
    "def plotData2D(model):\n",
    "    plt.style.use(\"seaborn\")\n",
    "    fig = plt.figure(figsize=[10,6])\n",
    "    ax = fig.add_subplot(111)\n",
    "    fig.subplots_adjust(left=None, bottom=0, right=None, top=1.01, wspace=0, hspace=4)\n",
    "    fig.suptitle(company + \" \" + model +\" Regression Model\", ha=\"center\", size=20)\n",
    "    \n",
    "    ax.scatter(x, y,c=\"r\", s=70)\n",
    "    ax.set_xlabel(\"Revenue\", labelpad=14, fontsize=14)\n",
    "    ax.set_ylabel(\"Earnings\", labelpad=20, fontsize=14)\n",
    "    return fig, ax\n",
    "\n",
    "def plotData3D(model):\n",
    "    plt.style.use(\"seaborn\")\n",
    "    fig = plt.figure(figsize=[10,6])\n",
    "    ax = fig.add_subplot(111, projection='3d')\n",
    "    fig.subplots_adjust(left=None, bottom=0, right=None, top=1.01, wspace=0, hspace=4)\n",
    "    fig.suptitle(company +\" \" + model + \" Regression Model\", ha=\"center\", size=20)\n",
    "    \n",
    "    ax.scatter(x, y, z,c=\"r\", s=70)\n",
    "    ax.set_xlabel(\"Revenue\", labelpad=14, fontsize=14)\n",
    "    ax.set_ylabel(\"Earnings\", labelpad=20, fontsize=14)\n",
    "    ax.set_zlabel(\"Dividends\", labelpad=10, fontsize=14)\n",
    "    return fig, ax\n",
    "\n",
    "def bestFit():\n",
    "    best = np.where(r2_scores == max(r2_scores))\n",
    "    pos = best[0][0]\n",
    "    bestFittingModel = model[pos]\n",
    "    return pos, bestFittingModel\n",
    "    "
   ]
  },
  {
   "cell_type": "code",
   "execution_count": 11,
   "metadata": {
    "collapsed": true
   },
   "outputs": [],
   "source": [
    "dataOriginal = pd.read_csv(\"stocks_data.csv\")\n",
    "lastQuarterData = pd.read_csv(\"stocks_last_quarter.csv\")\n",
    "r2_scores = np.empty([4],dtype=float)\n"
   ]
  },
  {
   "cell_type": "code",
   "execution_count": 15,
   "metadata": {
    "collapsed": true
   },
   "outputs": [],
   "source": [
    "for i in range(2,3):\n",
    "    r2_scores = np.zeros([4],dtype=float)\n",
    "    company = companies[i]\n",
    "    \n",
    "    data = dataOriginal[dataOriginal.Company==company]\n",
    "    lastQuarter = lastQuarterData[lastQuarterData.Company==company]\n",
    "    #compare your prediction to lastQuarter.Revenue  float(lastQuarter['EPS Diluted'])\n",
    "    x = np.array(data['Revenue'])\n",
    "    y = np.array(data['EPS Diluted'])\n",
    "    z = np.array(data['Dividend per Share'])\n",
    "    if all(z==0):\n",
    "        skip=True\n",
    "    else:\n",
    "        skip=False"
   ]
  },
  {
   "cell_type": "code",
   "execution_count": 17,
   "metadata": {},
   "outputs": [
    {
     "name": "stdout",
     "output_type": "stream",
     "text": [
      "Facebook R² for 2D LINEAR regression is 0.5690\n"
     ]
    }
   ],
   "source": [
    "if skip:\n",
    "        fig, ax = plotData2D(\"2D Linear\")\n",
    "        \n",
    "        a = np.ones(len(x))\n",
    "        b = np.vstack([a,x]).T\n",
    "        values = np.linalg.lstsq(b,y)\n",
    "        intercept = values[0][0]\n",
    "        coeff1 = values[0][1]\n",
    "        \n",
    "        Y = intercept + coeff1*x\n",
    "        \n",
    "        ax.plot(x,Y)\n",
    "        \n",
    "        r2 = calculateR2(y,Y)\n",
    "        r2_scores[0]=r2\n",
    "        equation = \"y = {0:.3f}\".format(intercept) +\" + {0:.6f}\".format(coeff1) +\" (x)\"\n",
    "        t = equation +\"\\nR\\N{SUPERSCRIPT TWO} = {0:.4f}\".format(r2)\n",
    "        addText(ax,t)\n",
    "        print(company + \" R\\N{SUPERSCRIPT TWO} for 2D LINEAR regression is {0:.4f}\".format(r2))\n",
    "    \n",
    "        #saveFile(company, \"2D_Linear\")\n",
    "        #plt.close()"
   ]
  },
  {
   "cell_type": "code",
   "execution_count": null,
   "metadata": {
    "collapsed": true
   },
   "outputs": [],
   "source": []
  }
 ],
 "metadata": {
  "kernelspec": {
   "display_name": "Python 3",
   "language": "python",
   "name": "python3"
  },
  "language_info": {
   "codemirror_mode": {
    "name": "ipython",
    "version": 3
   },
   "file_extension": ".py",
   "mimetype": "text/x-python",
   "name": "python",
   "nbconvert_exporter": "python",
   "pygments_lexer": "ipython3",
   "version": "3.6.3"
  },
  "latex_envs": {
   "LaTeX_envs_menu_present": true,
   "autoclose": false,
   "autocomplete": true,
   "bibliofile": "biblio.bib",
   "cite_by": "apalike",
   "current_citInitial": 1,
   "eqLabelWithNumbers": true,
   "eqNumInitial": 1,
   "hotkeys": {
    "equation": "Ctrl-E",
    "itemize": "Ctrl-I"
   },
   "labels_anchors": false,
   "latex_user_defs": false,
   "report_style_numbering": false,
   "user_envs_cfg": false
  }
 },
 "nbformat": 4,
 "nbformat_minor": 2
}
